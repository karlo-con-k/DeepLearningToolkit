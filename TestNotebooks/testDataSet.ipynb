{
 "cells": [
  {
   "cell_type": "code",
   "execution_count": 1,
   "metadata": {},
   "outputs": [],
   "source": [
    "import environ\n",
    "\n",
    "env = environ.Env()\n",
    "environ.Env.read_env()\n",
    "DataSetsPath     = env('DataSetsPath') #*\n",
    "ModelsPath       = env('ModelsPath') #*\n",
    "FitFunctionsPath = env('FitFunctionsPath') #*"
   ]
  },
  {
   "cell_type": "code",
   "execution_count": 2,
   "metadata": {},
   "outputs": [],
   "source": [
    "import sys\n",
    "sys.path.append(DataSetsPath)\n",
    "sys.path.append(ModelsPath)\n",
    "sys.path.append(FitFunctionsPath)"
   ]
  },
  {
   "cell_type": "code",
   "execution_count": 3,
   "metadata": {},
   "outputs": [],
   "source": [
    "import torch\n",
    "import torchvision.transforms as transforms\n",
    "from DataSets.dataSetCatsVsDogs import DataSet_Img_To_Label"
   ]
  },
  {
   "cell_type": "code",
   "execution_count": 4,
   "metadata": {},
   "outputs": [],
   "source": [
    "device      = \"cuda\" if torch.cuda.is_available() else \"cpu\""
   ]
  },
  {
   "cell_type": "code",
   "execution_count": 5,
   "metadata": {},
   "outputs": [
    {
     "name": "stdout",
     "output_type": "stream",
     "text": [
      "images.size() =  25000\n",
      "images.size() =  10\n",
      "myDataSet     =  len(dataSet) =  25000\n",
      "dataSet[0]   =  ('cat.0.jpg', 1)\n",
      "\n",
      "myDataSetTest =  len(dataSet) =  10\n",
      "dataSet[0]   =  ('cat.0.jpg', 1)\n",
      "\n"
     ]
    }
   ],
   "source": [
    "\n",
    "resize_image = transforms.Compose([\n",
    "                        #* Compose = compoues a list of function\n",
    "                        transforms.ToPILImage(),\n",
    "                        transforms.Resize((250, 250)),\n",
    "                        #* ToPILImage = cahnge the data type from PyTorch tensor or a NumPy ndarray to : A PIL (Python Imaging Library)\n",
    "                        transforms.ToTensor(), \n",
    "                        #* change the data type from Numpy or PIL to tensor\n",
    "                        ])\n",
    "\n",
    "root_Data   = \"C:/Users/malekir1/Downloads/dogs-vs-cats/train/train\"\n",
    "test = False\n",
    "myDataSet     = DataSet_Img_To_Label(root_Data, resize_image, test = test)\n",
    "myDataSetTest = DataSet_Img_To_Label(root_Data, resize_image, test = True)\n",
    "print(\"myDataSet     = \", myDataSet)\n",
    "print(\"myDataSetTest = \", myDataSetTest)"
   ]
  },
  {
   "cell_type": "code",
   "execution_count": 6,
   "metadata": {},
   "outputs": [],
   "source": [
    "from torch.utils.data import DataLoader\n",
    "from torch.utils.data import DataLoader, RandomSampler\n",
    "\n",
    "random_sampler = RandomSampler(myDataSet)\n",
    "batch_size = 16\n",
    "my_Data_Loader      = DataLoader(myDataSet    , batch_size = batch_size, num_workers = 0, sampler = random_sampler)\n",
    "my_Data_Loader_test = DataLoader(myDataSetTest, batch_size = 4, num_workers = 0, sampler = random_sampler)"
   ]
  },
  {
   "cell_type": "code",
   "execution_count": 7,
   "metadata": {},
   "outputs": [
    {
     "data": {
      "text/plain": [
       "modelCNN(\n",
       "  (conv_1): Conv2d(3, 32, kernel_size=(3, 3), stride=(1, 1))\n",
       "  (pool_1): MaxPool2d(kernel_size=2, stride=2, padding=0, dilation=1, ceil_mode=False)\n",
       "  (conv_2): Conv2d(32, 64, kernel_size=(3, 3), stride=(1, 1))\n",
       "  (pool_2): MaxPool2d(kernel_size=2, stride=2, padding=0, dilation=1, ceil_mode=False)\n",
       "  (conv_3): Conv2d(64, 128, kernel_size=(3, 3), stride=(1, 1))\n",
       "  (pool_3): MaxPool2d(kernel_size=2, stride=2, padding=0, dilation=1, ceil_mode=False)\n",
       "  (flat_1): Flatten(start_dim=1, end_dim=-1)\n",
       "  (dens_1): Sequential(\n",
       "    (0): Linear(in_features=107648, out_features=128, bias=True)\n",
       "    (1): ReLU()\n",
       "    (2): Linear(in_features=128, out_features=64, bias=True)\n",
       "    (3): ReLU()\n",
       "    (4): Linear(in_features=64, out_features=1, bias=True)\n",
       "  )\n",
       ")"
      ]
     },
     "execution_count": 7,
     "metadata": {},
     "output_type": "execute_result"
    }
   ],
   "source": [
    "from Models.modelCatsVsDogs import modelCNN\n",
    "# from DataSets.dataSetCatsVsDogs import DataSet_Img_To_Label\n",
    "\n",
    "myModel = modelCNN()\n",
    "myModel.cuda()"
   ]
  },
  {
   "cell_type": "code",
   "execution_count": 10,
   "metadata": {},
   "outputs": [
    {
     "name": "stdout",
     "output_type": "stream",
     "text": [
      "epoch =  0\n"
     ]
    },
    {
     "name": "stderr",
     "output_type": "stream",
     "text": [
      "C:\\Users\\malekir1\\AppData\\Local\\Packages\\PythonSoftwareFoundation.Python.3.11_qbz5n2kfra8p0\\LocalCache\\local-packages\\Python311\\site-packages\\torch\\nn\\modules\\loss.py:535: UserWarning: Using a target size (torch.Size([16])) that is different to the input size (torch.Size([16, 1])). This will likely lead to incorrect results due to broadcasting. Please ensure they have the same size.\n",
      "  return F.mse_loss(input, target, reduction=self.reduction)\n",
      "C:\\Users\\malekir1\\AppData\\Local\\Packages\\PythonSoftwareFoundation.Python.3.11_qbz5n2kfra8p0\\LocalCache\\local-packages\\Python311\\site-packages\\torch\\nn\\modules\\loss.py:535: UserWarning: Using a target size (torch.Size([8])) that is different to the input size (torch.Size([8, 1])). This will likely lead to incorrect results due to broadcasting. Please ensure they have the same size.\n",
      "  return F.mse_loss(input, target, reduction=self.reduction)\n"
     ]
    },
    {
     "name": "stdout",
     "output_type": "stream",
     "text": [
      "Epoch completed, Average Loss: 175557469.2180\n",
      "epoch =  1\n",
      "Epoch completed, Average Loss: 0.6172\n",
      "epoch =  2\n",
      "Epoch completed, Average Loss: 0.6049\n",
      "epoch =  3\n",
      "Epoch completed, Average Loss: 0.5795\n",
      "epoch =  4\n",
      "Epoch completed, Average Loss: 0.5336\n"
     ]
    }
   ],
   "source": [
    "\n",
    "#* test train_modelCNN\n",
    "from FitFunctions.fitFunctionsForCatsVsDogs import train_modelCNN\n",
    "import torch.nn as nn\n",
    "from torch import optim\n",
    "\n",
    "opt_model = optim.Adam(myModel.parameters(),  lr = 3e-2, betas = (0.9, 0.999))\n",
    "# criterion = nn.BCELoss()\n",
    "# criterion = torch.nn.MSELoss()\n",
    "criterion = nn.CrossEntropyLoss()\n",
    "history = train_modelCNN(my_Data_Loader, myModel, opt_model, device = device, num_epochs = 5, get_History = True)\n",
    "# history = train_model(myModel, my_Data_Loader, criterion, opt_model, device = device, num_epochs = 1)\n"
   ]
  },
  {
   "cell_type": "code",
   "execution_count": 11,
   "metadata": {},
   "outputs": [
    {
     "data": {
      "image/png": "[encoded data removed]",
      "text/plain": [
       "<Figure size 640x480 with 1 Axes>"
      ]
     },
     "metadata": {},
     "output_type": "display_data"
    }
   ],
   "source": [
    "import matplotlib.pyplot as plt\n",
    "\n",
    "history['MAE'] = history['MAE']\n",
    "x_values = range(1, len(history['MAE']) + 1)\n",
    "\n",
    "#* Plot the history['MAE']\n",
    "plt.plot(x_values, history['MAE'], marker='o')\n",
    "\n",
    "#* Add labels and title\n",
    "plt.xlabel('Epoch')\n",
    "plt.ylabel('MAE')\n",
    "plt.title('MAE for epoch')\n",
    "\n",
    "#* Show the plot\n",
    "plt.show()"
   ]
  },
  {
   "cell_type": "code",
   "execution_count": null,
   "metadata": {},
   "outputs": [],
   "source": [
    "\n"
   ]
  }
 ],
 "metadata": {
  "kernelspec": {
   "display_name": "Python 3",
   "language": "python",
   "name": "python3"
  },
  "language_info": {
   "codemirror_mode": {
    "name": "ipython",
    "version": 3
   },
   "file_extension": ".py",
   "mimetype": "text/x-python",
   "name": "python",
   "nbconvert_exporter": "python",
   "pygments_lexer": "ipython3",
   "version": "3.11.8"
  }
 },
 "nbformat": 4,
 "nbformat_minor": 2
}
