{
 "cells": [
  {
   "cell_type": "code",
   "execution_count": 1,
   "metadata": {},
   "outputs": [],
   "source": [
    "import environ\n",
    "\n",
    "env = environ.Env()\n",
    "environ.Env.read_env()\n",
    "DataSetsPath = env('DataSetsPath') #*"
   ]
  },
  {
   "cell_type": "code",
   "execution_count": 2,
   "metadata": {},
   "outputs": [],
   "source": [
    "import sys\n",
    "sys.path.append(DataSetsPath)"
   ]
  },
  {
   "cell_type": "code",
   "execution_count": 3,
   "metadata": {},
   "outputs": [],
   "source": [
    "import torch\n",
    "import torchvision.transforms as transforms\n",
    "from DataSets.dataSetCatsVsDogs import DataSet_Img_To_Label"
   ]
  },
  {
   "cell_type": "code",
   "execution_count": 4,
   "metadata": {},
   "outputs": [
    {
     "name": "stdout",
     "output_type": "stream",
     "text": [
      "images.size() =  25000\n",
      "images.size() =  10\n",
      "myDataSet     =  len(dataSet) =  25000\n",
      "dataSet[0]   =  ('cat.0.jpg', 1)\n",
      "\n",
      "myDataSetTest =  len(dataSet) =  10\n",
      "dataSet[0]   =  ('cat.0.jpg', 1)\n",
      "\n"
     ]
    }
   ],
   "source": [
    "\n",
    "resize_image = transforms.Compose([\n",
    "                        #* Compose = compoues a list of function\n",
    "                        transforms.ToPILImage(),\n",
    "                        transforms.Resize((250, 250)),\n",
    "                        #* ToPILImage = cahnge the data type from PyTorch tensor or a NumPy ndarray to : A PIL (Python Imaging Library)\n",
    "                        transforms.ToTensor(), \n",
    "                        #* change the data type from Numpy or PIL to tensor\n",
    "                        ])\n",
    "\n",
    "root_Data   = \"C:/Users/malekir1/Downloads/dogs-vs-cats/train/train\"\n",
    "test = False\n",
    "myDataSet     = DataSet_Img_To_Label(root_Data, resize_image, test = test)\n",
    "myDataSetTest = DataSet_Img_To_Label(root_Data, resize_image, test = True)\n",
    "print(\"myDataSet     = \", myDataSet)\n",
    "print(\"myDataSetTest = \", myDataSetTest)\n",
    "#* device      = \"cuda\" if torch.cuda.is_available() else \"cpu\"\n"
   ]
  },
  {
   "cell_type": "code",
   "execution_count": 5,
   "metadata": {},
   "outputs": [],
   "source": [
    "from torch.utils.data import DataLoader\n",
    "from torch.utils.data import DataLoader, RandomSampler\n",
    "\n",
    "random_sampler = RandomSampler(myDataSet)\n",
    "batch_size = 16\n",
    "my_Data_Loader      = DataLoader(myDataSet    , batch_size = batch_size, num_workers = 0, sampler = random_sampler)\n",
    "my_Data_Loader_test = DataLoader(myDataSetTest, batch_size = 4, num_workers = 0, sampler = random_sampler)"
   ]
  }
 ],
 "metadata": {
  "kernelspec": {
   "display_name": "Python 3",
   "language": "python",
   "name": "python3"
  },
  "language_info": {
   "codemirror_mode": {
    "name": "ipython",
    "version": 3
   },
   "file_extension": ".py",
   "mimetype": "text/x-python",
   "name": "python",
   "nbconvert_exporter": "python",
   "pygments_lexer": "ipython3",
   "version": "3.11.8"
  }
 },
 "nbformat": 4,
 "nbformat_minor": 2
}
